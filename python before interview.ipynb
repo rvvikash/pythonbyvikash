{
 "cells": [
  {
   "cell_type": "markdown",
   "id": "8e6998bb",
   "metadata": {},
   "source": [
    "# PYTHON INTERVIEW QUESTION"
   ]
  },
  {
   "cell_type": "markdown",
   "id": "9ea27708",
   "metadata": {},
   "source": [
    "Q1)pallindrome number"
   ]
  },
  {
   "cell_type": "code",
   "execution_count": 16,
   "id": "b38ce31b",
   "metadata": {},
   "outputs": [
    {
     "name": "stdout",
     "output_type": "stream",
     "text": [
      "0 11235813213455"
     ]
    }
   ],
   "source": [
    "def pallindrome():\n",
    "    \n",
    "        a=0\n",
    "        b=1\n",
    "        print(a,b,end='')\n",
    "        for i in range(9):\n",
    "            c=a+b\n",
    "            print(c,end='')\n",
    "            a=b\n",
    "            b=c\n",
    "    \n",
    "pallindrome()    "
   ]
  },
  {
   "cell_type": "markdown",
   "id": "28cf6f09",
   "metadata": {},
   "source": [
    "Q2)factorial"
   ]
  },
  {
   "cell_type": "code",
   "execution_count": 9,
   "id": "6e9f057d",
   "metadata": {},
   "outputs": [
    {
     "name": "stdout",
     "output_type": "stream",
     "text": [
      "Enter a number which you want a factorial =5\n",
      "the factorila of  5 is = 120\n"
     ]
    }
   ],
   "source": [
    "def factorial(n):\n",
    "    a=1\n",
    "    for i in range(1,n+1):\n",
    "        a=a*i\n",
    "        \n",
    "    \n",
    "    print('the factorila of',n,\"is =\",a)\n",
    "factorial(n=int(input('Enter a number which you want a factorial =')))    "
   ]
  },
  {
   "cell_type": "markdown",
   "id": "fa494cc8",
   "metadata": {},
   "source": [
    "Q3)square "
   ]
  },
  {
   "cell_type": "code",
   "execution_count": 1,
   "id": "3500c07c",
   "metadata": {},
   "outputs": [
    {
     "name": "stdout",
     "output_type": "stream",
     "text": [
      "enter number which you want as square=5\n",
      "*****\n",
      "*****\n",
      "*****\n",
      "*****\n",
      "*****\n"
     ]
    }
   ],
   "source": [
    "n=int(input('enter number which you want as square='))  #if we do not declare int while taking input it behave as string so code will give error\n",
    "for j in range(n):\n",
    "    for i in range(n):\n",
    "        print(\"*\",end='')\n",
    "    print()   "
   ]
  },
  {
   "cell_type": "markdown",
   "id": "39fcb155",
   "metadata": {},
   "source": [
    "q4)triangle"
   ]
  },
  {
   "cell_type": "code",
   "execution_count": 37,
   "id": "4e78f4c2",
   "metadata": {},
   "outputs": [
    {
     "name": "stdout",
     "output_type": "stream",
     "text": [
      "Enter the number you want to see as triangle base =7\n",
      "\n",
      "$\n",
      "$$\n",
      "$$$\n",
      "$$$$\n",
      "$$$$$\n",
      "$$$$$$\n"
     ]
    }
   ],
   "source": [
    "n=int(input('Enter the number you want to see as triangle base ='))\n",
    "for i in range(n):\n",
    "    for j in range (i):\n",
    "        print('$',end='')\n",
    "    print()        "
   ]
  },
  {
   "cell_type": "markdown",
   "id": "77fd1349",
   "metadata": {},
   "source": [
    "q5)list to dictionary\n"
   ]
  },
  {
   "cell_type": "code",
   "execution_count": 103,
   "id": "ecefe04b",
   "metadata": {},
   "outputs": [
    {
     "ename": "TypeError",
     "evalue": "cannot convert dictionary update sequence element #0 to a sequence",
     "output_type": "error",
     "traceback": [
      "\u001b[1;31m---------------------------------------------------------------------------\u001b[0m",
      "\u001b[1;31mTypeError\u001b[0m                                 Traceback (most recent call last)",
      "Cell \u001b[1;32mIn[103], line 2\u001b[0m\n\u001b[0;32m      1\u001b[0m numbers \u001b[38;5;241m=\u001b[39m [\u001b[38;5;241m1\u001b[39m, \u001b[38;5;241m2\u001b[39m, \u001b[38;5;241m3\u001b[39m, \u001b[38;5;241m1\u001b[39m, \u001b[38;5;241m2\u001b[39m, \u001b[38;5;241m3\u001b[39m, \u001b[38;5;241m4\u001b[39m, \u001b[38;5;241m5\u001b[39m, \u001b[38;5;241m1\u001b[39m, \u001b[38;5;241m2\u001b[39m]\n\u001b[1;32m----> 2\u001b[0m c\u001b[38;5;241m=\u001b[39m\u001b[38;5;28;43mdict\u001b[39;49m\u001b[43m(\u001b[49m\u001b[43mnumbers\u001b[49m\u001b[43m)\u001b[49m\n\u001b[0;32m      3\u001b[0m \u001b[38;5;28mprint\u001b[39m(c)\n",
      "\u001b[1;31mTypeError\u001b[0m: cannot convert dictionary update sequence element #0 to a sequence"
     ]
    }
   ],
   "source": [
    "numbers = [1, 2, 3, 1, 2, 3, 4, 5, 1, 2]\n",
    "c=dict(numbers)\n",
    "print(c)"
   ]
  },
  {
   "cell_type": "markdown",
   "id": "f34e6d8a",
   "metadata": {},
   "source": [
    "# number of time ocuurence number in list\n",
    "we are using here collection and counter try without inbuilt function\n",
    "\n",
    "This code uses the Counter class from the collections module to count the occurrences of each element in the numbers list and then prints the resulting dictionary. The corrected loop iterates through the key-value pairs using the items() method."
   ]
  },
  {
   "cell_type": "code",
   "execution_count": 18,
   "id": "cb58f4eb",
   "metadata": {},
   "outputs": [
    {
     "name": "stdout",
     "output_type": "stream",
     "text": [
      "Count dictionary: Counter({1: 3, 2: 3, 3: 2, 4: 1, 5: 1})\n",
      "1 3\n",
      "2 3\n",
      "3 2\n",
      "4 1\n",
      "5 1\n"
     ]
    },
    {
     "ename": "AttributeError",
     "evalue": "'Counter' object has no attribute 'item'",
     "output_type": "error",
     "traceback": [
      "\u001b[1;31m---------------------------------------------------------------------------\u001b[0m",
      "\u001b[1;31mAttributeError\u001b[0m                            Traceback (most recent call last)",
      "Cell \u001b[1;32mIn[18], line 14\u001b[0m\n\u001b[0;32m     10\u001b[0m \u001b[38;5;28;01mfor\u001b[39;00m key,value \u001b[38;5;129;01min\u001b[39;00m count_dict\u001b[38;5;241m.\u001b[39mitems():\n\u001b[0;32m     11\u001b[0m     \u001b[38;5;28mprint\u001b[39m(key,value)\n\u001b[1;32m---> 14\u001b[0m \u001b[38;5;28;01mfor\u001b[39;00m key,value \u001b[38;5;129;01min\u001b[39;00m \u001b[43mcount_dict\u001b[49m\u001b[38;5;241;43m.\u001b[39;49m\u001b[43mitem\u001b[49m():\n\u001b[0;32m     15\u001b[0m     \u001b[38;5;28mprint\u001b[39m(key,value)\n",
      "\u001b[1;31mAttributeError\u001b[0m: 'Counter' object has no attribute 'item'"
     ]
    }
   ],
   "source": [
    "# using collection and counter to convert list to dictionay \n",
    "from collections import Counter\n",
    "\n",
    "numbers = [1, 2, 3, 1, 2, 3, 4, 5, 1, 2]\n",
    "count_dict = Counter(numbers)\n",
    "\n",
    "print(f\"Count dictionary: {count_dict}\")\n",
    "\n",
    "#iterating the dictionary using items function in python You can use the items() method to get a view of the dictionary's items as a list of tuples, where each tuple contains a key-value pair\n",
    "for key,value in count_dict.items():  \n",
    "    print(key,value)\n",
    "    \n",
    "#this will give error as we do not have item to treat as dictionary to iterate using items() we need to add s please refer above .    \n",
    "for key,value in count_dict.item():  \n",
    "    print(key,value)"
   ]
  },
  {
   "cell_type": "code",
   "execution_count": 15,
   "id": "e17f23c6",
   "metadata": {},
   "outputs": [
    {
     "name": "stdout",
     "output_type": "stream",
     "text": [
      "The number 1 appears 3 times in the list.\n"
     ]
    }
   ],
   "source": [
    "numbers = [1, 2, 3, 1, 2, 3, 4, 5, 1, 2]\n",
    "count = numbers.count(1)\n",
    "print(f\"The number 1 appears {count} times in the list.\")\n",
    "\n",
    "\n"
   ]
  },
  {
   "cell_type": "markdown",
   "id": "037c97bb",
   "metadata": {},
   "source": [
    "# method overriding"
   ]
  },
  {
   "cell_type": "code",
   "execution_count": 1,
   "id": "c894903c",
   "metadata": {},
   "outputs": [
    {
     "name": "stdout",
     "output_type": "stream",
     "text": [
      "Area of the rectangle: 50\n",
      "Area of the circle: 153.86\n"
     ]
    }
   ],
   "source": [
    "class Shape:\n",
    "    def area(self):\n",
    "        return 0  # Default implementation for the base class\n",
    "\n",
    "class Rectangle(Shape):\n",
    "    def __init__(self, length, width):\n",
    "        self.length = length\n",
    "        self.width = width\n",
    "\n",
    "    # Overriding the area method for rectangles\n",
    "    def area(self):\n",
    "        return self.length * self.width\n",
    "\n",
    "class Circle(Shape):\n",
    "    def __init__(self, radius):\n",
    "        self.radius = radius\n",
    "\n",
    "    # Overriding the area method for circles\n",
    "    def area(self):\n",
    "        return 3.14 * self.radius * self.radius\n",
    "\n",
    "# Creating instances of the subclasses\n",
    "rectangle_instance = Rectangle(5, 10)\n",
    "circle_instance = Circle(7)\n",
    "\n",
    "# Calling the overridden methods\n",
    "print(\"Area of the rectangle:\", rectangle_instance.area())  # Output: 50\n",
    "print(\"Area of the circle:\", circle_instance.area())  # Output: 153.86 (approximately)\n"
   ]
  },
  {
   "cell_type": "markdown",
   "id": "c1d90414",
   "metadata": {},
   "source": [
    "# Polymorphism:\n",
    "Method overriding is a key feature in achieving polymorphism in OOP. Polymorphism allows objects of different classes to be treated as objects of a common base class. With method overriding, objects of different subclasses can respond to the same method call in a way that is specific to their type"
   ]
  },
  {
   "cell_type": "code",
   "execution_count": 2,
   "id": "ef144d2f",
   "metadata": {},
   "outputs": [
    {
     "name": "stdout",
     "output_type": "stream",
     "text": [
      "This rabbit is eating a carrot\n"
     ]
    }
   ],
   "source": [
    "class Animal:\n",
    "\n",
    "    def eat(self):\n",
    "        print(\"This animal is eating\")\n",
    "\n",
    "class Rabbit(Animal):\n",
    "\n",
    "    def eat(self):\n",
    "        print(\"This rabbit is eating a carrot\")\n",
    "\n",
    "\n",
    "rabbit = Rabbit()\n",
    "rabbit.eat()"
   ]
  },
  {
   "cell_type": "code",
   "execution_count": 3,
   "id": "dbeeafd7",
   "metadata": {},
   "outputs": [
    {
     "name": "stdout",
     "output_type": "stream",
     "text": [
      "This animal is eating\n"
     ]
    }
   ],
   "source": [
    "class Animal:\n",
    "\n",
    "    def eat(self):\n",
    "        print(\"This animal is eating\")\n",
    "\n",
    "class Rabbit(Animal):\n",
    "    pass\n",
    "\n",
    "\n",
    "rabbit = Rabbit()\n",
    "rabbit.eat()"
   ]
  },
  {
   "cell_type": "markdown",
   "id": "7fba03a7",
   "metadata": {},
   "source": [
    "# Decorators:\n",
    "Decorators: In Python, decorators are a way to modify or extend the behavior of functions or methods. A decorator is a function that takes another function as input, adds some functionality, and returns a new function. Decorators are applied using the @decorator syntax.\n",
    "# Use Case:\n",
    "Decorators: They are used to modify or extend the behavior of functions. Common use cases include logging, timing, caching, access control, etc. Decorators provide a way to separate concerns and keep the code modular."
   ]
  },
  {
   "cell_type": "markdown",
   "id": "1768a86a",
   "metadata": {},
   "source": [
    "# simple class and object creation "
   ]
  },
  {
   "cell_type": "code",
   "execution_count": null,
   "id": "907e969a",
   "metadata": {},
   "outputs": [],
   "source": [
    "class Person:\n",
    "    def __init__(self, name, age):\n",
    "        self.name = name\n",
    "        self.age = age\n",
    "\n",
    "    def greet(self):\n",
    "        print(f\"Hello, my name is {self.name} and I am {self.age} years old.\")\n",
    "\n",
    "# Creating an object (instance) of the Person class\n",
    "person_object = Person(\"John\", 25)\n",
    "\n",
    "# Accessing attributes and calling methods of the object\n",
    "print(\"Name:\", person_object.name)\n",
    "print(\"Age:\", person_object.age)\n",
    "person_object.greet()\n"
   ]
  },
  {
   "cell_type": "markdown",
   "id": "3439deb3",
   "metadata": {},
   "source": [
    "# method overloading:\n",
    "method overloading is achieved through default arguments or variable-length argument lists, as the language does not support traditional method overloading with different method signatures. Method overloading refers to defining multiple methods in the same class with the same name but different parameters.\n",
    "\n"
   ]
  },
  {
   "cell_type": "code",
   "execution_count": 12,
   "id": "0f4d759d",
   "metadata": {},
   "outputs": [
    {
     "name": "stdout",
     "output_type": "stream",
     "text": [
      "Result with one argument: 5\n",
      "Result with two arguments: 15\n",
      "Result with three arguments: 30\n"
     ]
    }
   ],
   "source": [
    "class Calculator:\n",
    "    def add(self, a, b=0, c=0):       \n",
    "        return a + b + c\n",
    "# we are giving the 0 to b and c if b or c is not have any value passed in argument it will take 0 by default    \n",
    "\n",
    "# Creating an instance of the Calculator class\n",
    "calculator_instance = Calculator()\n",
    "\n",
    "# Calling the add method with different numbers of arguments\n",
    "result1 = calculator_instance.add(5)\n",
    "result2 = calculator_instance.add(5, 10)\n",
    "result3 = calculator_instance.add(5, 10, 15)\n",
    "\n",
    "# Displaying the results\n",
    "print(\"Result with one argument:\", result1)  # Output: 5\n",
    "print(\"Result with two arguments:\", result2)  # Output: 15\n",
    "print(\"Result with three arguments:\", result3)  # Output: 30\n"
   ]
  },
  {
   "cell_type": "markdown",
   "id": "8496f760",
   "metadata": {},
   "source": [
    "# super() \n",
    "super function is used to call methods and access attributes from the parent class (superclass) within a subclass. It is particularly useful in the context of inheritance when you want to invoke a method or access an attribute defined in the superclass.\n",
    "Calling the Parent Class Constructor (__init__):\n",
    "\n",
    "When you define an __init__ method in a subclass, you often want to call the __init__ method of the parent class to ensure that the initialization logic of the parent class is also executed."
   ]
  },
  {
   "cell_type": "code",
   "execution_count": 24,
   "id": "3ae2e62d",
   "metadata": {},
   "outputs": [],
   "source": [
    "class Parent:\n",
    "    def __init__(self, name):\n",
    "        self.name = name\n",
    "\n",
    "class Child(Parent):\n",
    "    def __init__(self, name, age):   #observe here we are not defining self.name intist if this we are using super().__init__(name) to make more resulable code\n",
    "        super().__init__(name)\n",
    "        self.age = age\n",
    "\n",
    "# Example usage\n",
    "child_instance = Child(\"John\", 25)\n"
   ]
  },
  {
   "cell_type": "code",
   "execution_count": null,
   "id": "cc66af09",
   "metadata": {},
   "outputs": [],
   "source": [
    "youtube link to get ubderstand python in depth\n",
    "\n",
    "https://www.youtube.com/@BroCodez"
   ]
  }
 ],
 "metadata": {
  "kernelspec": {
   "display_name": "Python 3 (ipykernel)",
   "language": "python",
   "name": "python3"
  },
  "language_info": {
   "codemirror_mode": {
    "name": "ipython",
    "version": 3
   },
   "file_extension": ".py",
   "mimetype": "text/x-python",
   "name": "python",
   "nbconvert_exporter": "python",
   "pygments_lexer": "ipython3",
   "version": "3.10.9"
  }
 },
 "nbformat": 4,
 "nbformat_minor": 5
}
