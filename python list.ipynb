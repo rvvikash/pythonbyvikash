{
 "cells": [
  {
   "cell_type": "markdown",
   "id": "8ed32025",
   "metadata": {},
   "source": [
    "A list is a collection of different kinds of values or items. Since Python lists are mutable, we can change their elements after forming. The comma (,) and the square brackets [enclose the List's items] serve as separators"
   ]
  },
  {
   "cell_type": "code",
   "execution_count": 1,
   "id": "26cb74f8",
   "metadata": {},
   "outputs": [
    {
     "name": "stdout",
     "output_type": "stream",
     "text": [
      "[1, 2, 3, 3, 'a']\n"
     ]
    }
   ],
   "source": [
    "list =[1,2,3,3,'a']\n",
    "print(list)\n"
   ]
  },
  {
   "cell_type": "markdown",
   "id": "787d8f8a",
   "metadata": {},
   "source": [
    "# delete element from list"
   ]
  },
  {
   "cell_type": "code",
   "execution_count": 12,
   "id": "a509a344",
   "metadata": {},
   "outputs": [
    {
     "name": "stdout",
     "output_type": "stream",
     "text": [
      "enter the element which you want to delete =5\n",
      "retuned list after deleting 5 from list [1, 2, 3, 4]\n"
     ]
    }
   ],
   "source": [
    "# list =[1,2,3,3,'a']\n",
    "# del list[-1]    #usingdelete we can delete number from list using index\n",
    "# print(list)\n",
    "\n",
    "\n",
    "my_list = [1, 2, 3, 4, 5]\n",
    "element_to_remove =int(input('enter the element which you want to delete ='))\n",
    "\n",
    "new_list = []\n",
    "\n",
    "for item in my_list:\n",
    "    if item != element_to_remove:\n",
    "        new_list.append(item)\n",
    "\n",
    "my_list = new_list\n",
    "\n",
    "print('retuned list after deleting',element_to_remove,'from list',my_list)\n",
    "# Output: [1, 2, 4, 5]\n"
   ]
  },
  {
   "cell_type": "markdown",
   "id": "3d113ad3",
   "metadata": {},
   "source": [
    "# delete element in list without function and show duplicated item list"
   ]
  },
  {
   "cell_type": "code",
   "execution_count": 42,
   "id": "10988a0d",
   "metadata": {},
   "outputs": [
    {
     "name": "stdout",
     "output_type": "stream",
     "text": [
      "duplicate element in list [2, 4, 4]\n",
      "removed duplicate and made unique [1, 2, 3, 4, 0, 5]\n"
     ]
    }
   ],
   "source": [
    "my_list = [1, 2, 2, 3, 4, 4,0,4,5]\n",
    "\n",
    "new_list = []\n",
    "duplicate_list=[]\n",
    "\n",
    "for item in my_list:\n",
    "    if item not in new_list:\n",
    "        new_list.append(item)\n",
    "    else:\n",
    "        duplicate_list.append(item)\n",
    "        \n",
    "\n",
    "my_list = new_list\n",
    "print('duplicate element in list',duplicate_list)\n",
    "\n",
    "\n",
    "print('removed duplicate and made unique',my_list)\n",
    "# Output: [1, 2, 3, 4, 5]\n",
    "\n",
    "# creating empty list and adding element and comparing between two list \n"
   ]
  },
  {
   "cell_type": "markdown",
   "id": "08798ed7",
   "metadata": {},
   "source": [
    "# Matching element in list and not matching element list"
   ]
  },
  {
   "cell_type": "code",
   "execution_count": 43,
   "id": "052e4a4c",
   "metadata": {},
   "outputs": [
    {
     "name": "stdout",
     "output_type": "stream",
     "text": [
      "matching element in both list [1, 2, 3]\n",
      "Not matching element list [4]\n"
     ]
    }
   ],
   "source": [
    "list=[1,2,3,4]\n",
    "list2=[1,2,3]\n",
    "list3=[]\n",
    "list4=[]\n",
    "\n",
    "for item in list2:\n",
    "    if item in list:\n",
    "        list3.append(item)\n",
    "print('matching element in both list',list3)\n",
    "\n",
    "\n",
    "for item in list:\n",
    "    if item not in list2:\n",
    "        list4.append(item)\n",
    "print('Not matching element list',list4)"
   ]
  },
  {
   "cell_type": "markdown",
   "id": "f047706b",
   "metadata": {},
   "source": [
    "# To find max and min "
   ]
  },
  {
   "cell_type": "code",
   "execution_count": 68,
   "id": "c98ec747",
   "metadata": {},
   "outputs": [
    {
     "name": "stdout",
     "output_type": "stream",
     "text": [
      "Maximum value: 9\n",
      "Minimum value: 1\n"
     ]
    }
   ],
   "source": [
    "# list=[1,2,3,4,10,5,6,8,8]\n",
    "# list.sort()\n",
    "# print(list[-1])\n",
    "\n",
    "my_list = [3, 1, 4, 1, 5, 9, 2, 6, 5, 3, 5]\n",
    "\n",
    "maximum_value = max(my_list)\n",
    "minimum_value = min(my_list)\n",
    "\n",
    "print(\"Maximum value:\", f\"{maximum_value}\")\n",
    "print(\"Minimum value:\", minimum_value)\n",
    "\n",
    "        "
   ]
  },
  {
   "cell_type": "markdown",
   "id": "9c067799",
   "metadata": {},
   "source": [
    "# number of times element in list"
   ]
  },
  {
   "cell_type": "code",
   "execution_count": 64,
   "id": "bf0f7766",
   "metadata": {},
   "outputs": [
    {
     "name": "stdout",
     "output_type": "stream",
     "text": [
      "1: 1 times\n",
      "2: 2 times\n",
      "3: 1 times\n",
      "4: 2 times\n",
      "5: 1 times\n"
     ]
    }
   ],
   "source": [
    "my_list = [1, 2, 2, 3, 4, 4, 5]\n",
    "\n",
    "# Create a dictionary to store the count of each element\n",
    "element_counts = {}\n",
    "\n",
    "# Iterate through the list\n",
    "for item in my_list:\n",
    "    # If the element is already in the dictionary, increment its count\n",
    "    if item in element_counts:\n",
    "        element_counts[item] += 1\n",
    "    # If the element is not in the dictionary, add it with count 1\n",
    "    else:\n",
    "        element_counts[item] = 1\n",
    "\n",
    "# Print the counts\n",
    "for element, count in element_counts.items():\n",
    "    print(f\"{element}: {count} times\")\n"
   ]
  },
  {
   "cell_type": "markdown",
   "id": "a5a23ddf",
   "metadata": {},
   "source": [
    "# roation of list"
   ]
  },
  {
   "cell_type": "code",
   "execution_count": 112,
   "id": "8c332269",
   "metadata": {},
   "outputs": [
    {
     "name": "stdout",
     "output_type": "stream",
     "text": [
      "[3, 4, 5, 1, 2]\n"
     ]
    }
   ],
   "source": [
    "# list=[1, 2, 3, 4, 5]\n",
    "# list2=list[-3:]  #start,stop,step\n",
    "# list3=list[0:-3]\n",
    "# print(list2)\n",
    "# print(list3)\n",
    "\n",
    "\n",
    "my_list = [1, 2, 3, 4, 5]\n",
    "rotation_steps = 3\n",
    "\n",
    "# Rotate the list to the right by k steps\n",
    "n = len(my_list)\n",
    "rotation_steps = rotation_steps % n  # Ensure k is within the range of the list length\n",
    "# print(rotation_steps)\n",
    "\n",
    "# Perform the rotation without using a function\n",
    "my_list = my_list[-rotation_steps:] + my_list[:-rotation_steps]\n",
    "\n",
    "print(my_list)\n",
    "\n"
   ]
  },
  {
   "cell_type": "markdown",
   "id": "b14738f1",
   "metadata": {},
   "source": [
    "# multiplication of item in list"
   ]
  },
  {
   "cell_type": "code",
   "execution_count": 113,
   "id": "06296c4f",
   "metadata": {},
   "outputs": [
    {
     "name": "stdout",
     "output_type": "stream",
     "text": [
      "[6, 8, 10, 2, 4]\n"
     ]
    }
   ],
   "source": [
    "list=[3, 4, 5, 1, 2]\n",
    "list2=[]\n",
    "for item in list:\n",
    "    list2.append(item*2)\n",
    "print(list2)    "
   ]
  },
  {
   "cell_type": "markdown",
   "id": "0abe58a5",
   "metadata": {},
   "source": [
    "# adding the element in list"
   ]
  },
  {
   "cell_type": "code",
   "execution_count": 114,
   "id": "71c63c84",
   "metadata": {},
   "outputs": [
    {
     "name": "stdout",
     "output_type": "stream",
     "text": [
      "Enter the number of elements in the list:3\n",
      "Enter the item:8\n",
      "Enter the item:1\n",
      "Enter the item:99\n",
      "printing the list items..\n",
      "8  1  99  "
     ]
    }
   ],
   "source": [
    "#Declaring the empty list    \n",
    "l =[]    \n",
    "#Number of elements will be entered by the user      \n",
    "n = int(input(\"Enter the number of elements in the list:\"))    \n",
    "# for loop to take the input    \n",
    "for i in range(0,n):       \n",
    "    # The input is taken from the user and added to the list as the item    \n",
    "    l.append(input(\"Enter the item:\"))       \n",
    "print(\"printing the list items..\")     \n",
    "# traversal loop to print the list items      \n",
    "for i in l:     \n",
    "    print(i, end = \"  \")"
   ]
  },
  {
   "cell_type": "markdown",
   "id": "649af8d5",
   "metadata": {},
   "source": [
    "# Comprehension of list"
   ]
  },
  {
   "cell_type": "code",
   "execution_count": 1,
   "id": "9af42e0a",
   "metadata": {},
   "outputs": [
    {
     "name": "stdout",
     "output_type": "stream",
     "text": [
      "['apple', 'banana', 'mango']\n"
     ]
    }
   ],
   "source": [
    "# fruits = [\"apple\", \"banana\", \"cherry\", \"kiwi\", \"mango\"]\n",
    "# newlist = []\n",
    "\n",
    "# for x in fruits:\n",
    "#   if \"a\" in x:\n",
    "#     newlist.append(x)\n",
    "\n",
    "# print(newlist)\n",
    "\n",
    "fruits = [\"apple\", \"banana\", \"cherry\", \"kiwi\", \"mango\"]\n",
    "\n",
    "newlist = [x for x in fruits if \"a\" in x]\n",
    "\n",
    "print(newlist)\n",
    "\n",
    "# newlist = [expression for item in iterable if condition == True]\n"
   ]
  },
  {
   "cell_type": "markdown",
   "id": "3c87787b",
   "metadata": {},
   "source": [
    "# sorted function keyword in list"
   ]
  },
  {
   "cell_type": "code",
   "execution_count": 25,
   "id": "c8856462",
   "metadata": {},
   "outputs": [
    {
     "name": "stdout",
     "output_type": "stream",
     "text": [
      "['date', 'apple', 'banana', 'cherry']\n"
     ]
    }
   ],
   "source": [
    "my_list = [\"apple\", \"banana\", \"cherry\", \"date\"]\n",
    "sorted_list_by_length = sorted(my_list, key=len,reverse=False)\n",
    "print(sorted_list_by_length)\n",
    "      \n",
    "# sorted(list,)  \n",
    "# sorted(iterable, key=None, reverse=False)\n",
    "      \n",
    "      \n"
   ]
  },
  {
   "cell_type": "markdown",
   "id": "d4b00396",
   "metadata": {},
   "source": [
    "# Numbers of times number exist in list using dictionary"
   ]
  },
  {
   "cell_type": "code",
   "execution_count": 11,
   "id": "fbf23cb4",
   "metadata": {},
   "outputs": [
    {
     "name": "stdout",
     "output_type": "stream",
     "text": [
      "{1: 3, 2: 2, 3: 4}\n",
      "1 number of times 3\n",
      "2 number of times 2\n",
      "3 number of times 4\n",
      "1: 3\n",
      "2: 2\n",
      "3: 4\n"
     ]
    }
   ],
   "source": [
    "list=[1,1,2,2,3,3,3,3,1]\n",
    "element_count={}\n",
    "\n",
    "for item in list:\n",
    "    if item in element_count:\n",
    "        element_count[item]+=1\n",
    "    else:\n",
    "        element_count[item]=1\n",
    "print(element_count)\n",
    "\n",
    "# for i in element_count:\n",
    "#     print(i,element_count[i])\n",
    "    \n",
    "for items in element_count:\n",
    "    print(items,'number of times',element_count[items]) \n",
    "    \n",
    "    \n",
    "# Using items() to iterate through keys and values\n",
    "for key, value in element_count.items():\n",
    "    print(f\"{key}: {value}\")    \n"
   ]
  },
  {
   "cell_type": "markdown",
   "id": "06fb15d0",
   "metadata": {},
   "source": [
    "# extend keyword"
   ]
  },
  {
   "cell_type": "code",
   "execution_count": null,
   "id": "a43775ee",
   "metadata": {},
   "outputs": [],
   "source": [
    "# Example list\n",
    "my_list = [1, 2, 3]\n",
    "\n",
    "# Extend the list with elements from another list\n",
    "my_list.extend([4, 5, 6])\n",
    "\n",
    "print(my_list)\n",
    "# Output: [1, 2, 3, 4, 5, 6]\n"
   ]
  },
  {
   "cell_type": "markdown",
   "id": "aa600dbb",
   "metadata": {},
   "source": [
    "# Tuple"
   ]
  },
  {
   "cell_type": "code",
   "execution_count": null,
   "id": "f49792e2",
   "metadata": {},
   "outputs": [],
   "source": [
    "# List is a collection which is ordered and changeable. Allows duplicate members.\n",
    "# Tuple is a collection which is ordered and unchangeable. Allows duplicate members.\n",
    "# Set is a collection which is unordered, unchangeable*, and unindexed. No duplicate members.\n",
    "# Dictionary is a collection which is ordered** and changeable. No duplicate members.\n",
    "# *Set items are unchangeable, but you can remove and/or add items whenever you like.\n",
    "\n",
    "# **As of Python version 3.7, dictionaries are ordered. In Python 3.6 and earlier, dictionaries are unordered.\n",
    "\n",
    "# it is more effiecent then list as it is memory friendly\n",
    "# we can pack and unpack the tuple\n",
    "\n",
    "# Any number of items, including those with various data types (dictionary, string, float, list, etc.),\n",
    "# can be contained in a tuple.\n",
    "\n"
   ]
  },
  {
   "cell_type": "code",
   "execution_count": 53,
   "id": "3e907f4c",
   "metadata": {},
   "outputs": [
    {
     "name": "stdout",
     "output_type": "stream",
     "text": [
      "('2', '2')\n",
      "<class 'tuple'>\n",
      "2\n"
     ]
    }
   ],
   "source": [
    "a=('2','2')\n",
    "print(a)\n",
    "print(type(a))\n",
    "print(a[0])\n"
   ]
  },
  {
   "cell_type": "markdown",
   "id": "af57855a",
   "metadata": {},
   "source": [
    "# packing and unpacking in tuple"
   ]
  },
  {
   "cell_type": "code",
   "execution_count": 47,
   "id": "ddf9faf4",
   "metadata": {},
   "outputs": [
    {
     "name": "stdout",
     "output_type": "stream",
     "text": [
      "('John', 30, 'Engineer', 2)\n"
     ]
    }
   ],
   "source": [
    "# Packing multiple values into a tuple\n",
    "person = \"John\", 30, \"Engineer\",2\n",
    "print(person)\n",
    "# Output: ('John', 30, 'Engineer')\n"
   ]
  },
  {
   "cell_type": "code",
   "execution_count": 48,
   "id": "fea63559",
   "metadata": {},
   "outputs": [
    {
     "name": "stdout",
     "output_type": "stream",
     "text": [
      "John\n",
      "30\n",
      "Engineer\n",
      "2\n"
     ]
    }
   ],
   "source": [
    "# Unpacking values from a tuple\n",
    "name, age, occupation,pistol = person\n",
    "print(name)\n",
    "# Output: John\n",
    "print(age)\n",
    "# Output: 30\n",
    "print(occupation)\n",
    "# Output: Engineer\n",
    "print(pistol)\n"
   ]
  },
  {
   "cell_type": "code",
   "execution_count": 52,
   "id": "f717c30b",
   "metadata": {},
   "outputs": [
    {
     "data": {
      "text/plain": [
       "['__add__',\n",
       " '__class__',\n",
       " '__class_getitem__',\n",
       " '__contains__',\n",
       " '__delattr__',\n",
       " '__dir__',\n",
       " '__doc__',\n",
       " '__eq__',\n",
       " '__format__',\n",
       " '__ge__',\n",
       " '__getattribute__',\n",
       " '__getitem__',\n",
       " '__getnewargs__',\n",
       " '__gt__',\n",
       " '__hash__',\n",
       " '__init__',\n",
       " '__init_subclass__',\n",
       " '__iter__',\n",
       " '__le__',\n",
       " '__len__',\n",
       " '__lt__',\n",
       " '__mul__',\n",
       " '__ne__',\n",
       " '__new__',\n",
       " '__reduce__',\n",
       " '__reduce_ex__',\n",
       " '__repr__',\n",
       " '__rmul__',\n",
       " '__setattr__',\n",
       " '__sizeof__',\n",
       " '__str__',\n",
       " '__subclasshook__',\n",
       " 'count',\n",
       " 'index']"
      ]
     },
     "execution_count": 52,
     "metadata": {},
     "output_type": "execute_result"
    }
   ],
   "source": [
    "dir(tuple)\n"
   ]
  },
  {
   "cell_type": "markdown",
   "id": "72fd859c",
   "metadata": {},
   "source": [
    "# Write a Python function to find the student with the highest score. The function should take the list of tuples as input and return the name of the student with the highest score."
   ]
  },
  {
   "cell_type": "code",
   "execution_count": 54,
   "id": "381cacd8",
   "metadata": {},
   "outputs": [],
   "source": [
    "students = [(\"Alice\", 85), (\"Bob\", 92), (\"Charlie\", 78), (\"David\", 95), (\"Eva\", 88)]"
   ]
  },
  {
   "cell_type": "code",
   "execution_count": 4,
   "id": "2b94cf17",
   "metadata": {},
   "outputs": [
    {
     "name": "stdout",
     "output_type": "stream",
     "text": [
      "The student with the highest score is: David\n"
     ]
    }
   ],
   "source": [
    "def highest_score_student(student_scores):\n",
    "    highest_score = float('-inf')  # Initialize with negative infinity\n",
    "    highest_scorer = None\n",
    "\n",
    "    for student, score in student_scores:\n",
    "        if score > highest_score:\n",
    "            highest_score = score\n",
    "            highest_scorer = student\n",
    "\n",
    "    return highest_scorer\n",
    "\n",
    "# Example usage:\n",
    "students = [(\"Alice\", 85), (\"Bob\", 92), (\"Charlie\", 78), (\"David\", 95), (\"Eva\", 88)]\n",
    "result = highest_score_student(students)\n",
    "print(f\"The student with the highest score is: {result}\")\n"
   ]
  },
  {
   "cell_type": "code",
   "execution_count": 5,
   "id": "77a52574",
   "metadata": {},
   "outputs": [
    {
     "ename": "ValueError",
     "evalue": "too many values to unpack (expected 2)",
     "output_type": "error",
     "traceback": [
      "\u001b[1;31m---------------------------------------------------------------------------\u001b[0m",
      "\u001b[1;31mValueError\u001b[0m                                Traceback (most recent call last)",
      "Cell \u001b[1;32mIn[5], line 1\u001b[0m\n\u001b[1;32m----> 1\u001b[0m name,mark\u001b[38;5;241m=\u001b[39mstudents\n\u001b[0;32m      2\u001b[0m \u001b[38;5;28mprint\u001b[39m(mark)\n",
      "\u001b[1;31mValueError\u001b[0m: too many values to unpack (expected 2)"
     ]
    }
   ],
   "source": [
    "name,mark=students\n",
    "print(mark)\n",
    "# this have error as we can not unpack multiple entry at once so we need to use loop which we using in next cell"
   ]
  },
  {
   "cell_type": "code",
   "execution_count": 71,
   "id": "28fb59bb",
   "metadata": {},
   "outputs": [
    {
     "name": "stdout",
     "output_type": "stream",
     "text": [
      "85\n",
      "92\n",
      "78\n",
      "95\n",
      "88\n"
     ]
    }
   ],
   "source": [
    "students = [(\"Alice\", 85), (\"Bob\", 92), (\"Charlie\", 78), (\"David\", 95), (\"Eva\", 88)]\n",
    "\n",
    "for name, score in students:\n",
    "#     print(f\"Student: {name}, Score: {score}\")\n",
    "    print(score)\n"
   ]
  },
  {
   "cell_type": "markdown",
   "id": "88c8f26e",
   "metadata": {},
   "source": [
    "# find max in tuple"
   ]
  },
  {
   "cell_type": "code",
   "execution_count": 74,
   "id": "e49d4fa0",
   "metadata": {},
   "outputs": [
    {
     "name": "stdout",
     "output_type": "stream",
     "text": [
      "The maximum value in the tuple is: 15\n"
     ]
    }
   ],
   "source": [
    "my_tuple = (10, 5, 8, 15, 3)\n",
    "\n",
    "max_value = float('-inf')  # Initialize with negative infinity because it will compare the first element with negative to make first maximum\n",
    "\n",
    "for value in my_tuple:\n",
    "    if value > max_value:\n",
    "        max_value = value\n",
    "\n",
    "print(f\"The maximum value in the tuple is: {max_value}\")\n"
   ]
  },
  {
   "cell_type": "markdown",
   "id": "3b45683c",
   "metadata": {},
   "source": [
    "# sorting a tuple in python"
   ]
  },
  {
   "cell_type": "code",
   "execution_count": 79,
   "id": "14826b92",
   "metadata": {},
   "outputs": [
    {
     "name": "stdout",
     "output_type": "stream",
     "text": [
      "Original tuple: (3, 1, 4, 1, 5, 9, 2, 6, 5, 3, 5)\n",
      "Sorted list using sorted(): [1, 1, 2, 3, 3, 4, 5, 5, 5, 6, 9]\n",
      "9\n",
      "[9, 6, 5, 5, 5, 4, 3, 3, 2, 1, 1]\n"
     ]
    }
   ],
   "source": [
    "my_tuple = (3, 1, 4, 1, 5, 9, 2, 6, 5, 3, 5)\n",
    "\n",
    "# Create a new sorted list from the tuple\n",
    "sorted_list = sorted(my_tuple)\n",
    "\n",
    "print(\"Original tuple:\", my_tuple)\n",
    "print(\"Sorted list using sorted():\", sorted_list)\n",
    "print(sorted_list[-1])\n",
    "\n",
    "#reverse a list\n",
    "print(sorted_list[::-1])"
   ]
  },
  {
   "cell_type": "markdown",
   "id": "28871205",
   "metadata": {},
   "source": [
    "# sets"
   ]
  },
  {
   "cell_type": "code",
   "execution_count": 87,
   "id": "122a39b3",
   "metadata": {},
   "outputs": [
    {
     "name": "stdout",
     "output_type": "stream",
     "text": [
      "{1, 2, 3, 4, 5}\n",
      "{1, 2, 3, 4, 5, 6}\n",
      "{1, 2, 4, 5, 6}\n"
     ]
    }
   ],
   "source": [
    "# intaialization of set start with {}\n",
    "my_set = {1, 2, 3, 4, 5}\n",
    "print(my_set)\n",
    "\n",
    "my_set.add(6)\n",
    "print(my_set)\n",
    "\n",
    "my_set.remove(3)\n",
    "print(my_set)\n",
    "# it unorderded but it contain only unique element"
   ]
  },
  {
   "cell_type": "code",
   "execution_count": null,
   "id": "141846f1",
   "metadata": {},
   "outputs": [],
   "source": [
    "# Removing items from the set\n",
    "# Python provides the discard() method and remove() method which can be used to remove the items from the set. \n",
    "# The difference between these function, \n",
    "# using discard() function if the item does not exist in the set then the set remain unchanged whereas remove() method will through an error."
   ]
  },
  {
   "cell_type": "code",
   "execution_count": 83,
   "id": "8460d4d4",
   "metadata": {},
   "outputs": [
    {
     "ename": "TypeError",
     "evalue": "'set' object is not subscriptable",
     "output_type": "error",
     "traceback": [
      "\u001b[1;31m---------------------------------------------------------------------------\u001b[0m",
      "\u001b[1;31mTypeError\u001b[0m                                 Traceback (most recent call last)",
      "Cell \u001b[1;32mIn[83], line 2\u001b[0m\n\u001b[0;32m      1\u001b[0m my_set \u001b[38;5;241m=\u001b[39m {\u001b[38;5;241m1\u001b[39m, \u001b[38;5;241m2\u001b[39m, \u001b[38;5;241m3\u001b[39m, \u001b[38;5;241m4\u001b[39m, \u001b[38;5;241m5\u001b[39m}\n\u001b[1;32m----> 2\u001b[0m \u001b[38;5;28mprint\u001b[39m(\u001b[43mmy_set\u001b[49m\u001b[43m[\u001b[49m\u001b[38;5;241;43m2\u001b[39;49m\u001b[43m]\u001b[49m)\n",
      "\u001b[1;31mTypeError\u001b[0m: 'set' object is not subscriptable"
     ]
    }
   ],
   "source": [
    "my_set = {1, 2, 3, 4, 5}\n",
    "print(my_set[2])\n",
    "\n"
   ]
  },
  {
   "cell_type": "markdown",
   "id": "88a2899e",
   "metadata": {},
   "source": [
    "# union intersection it is important in sets"
   ]
  },
  {
   "cell_type": "code",
   "execution_count": 95,
   "id": "ed58ef51",
   "metadata": {},
   "outputs": [
    {
     "name": "stdout",
     "output_type": "stream",
     "text": [
      "only umacthed from both dataset {1, 2, 4, 5}\n",
      "without repeated element returning union {1, 2, 3, 4, 5}\n",
      "macthed one only as intersection {3}\n",
      "we are doing the minus from set 1 so it will give the result of set1 and remove the common element from set1 {1, 2}\n"
     ]
    }
   ],
   "source": [
    "set1 = {1, 2, 3}\n",
    "set2 = {3, 4, 5}\n",
    "\n",
    "# Union\n",
    "union_set = set1 | set2  # or use set1.union(set2)\n",
    "\n",
    "# Intersection\n",
    "intersection_set = set1 & set2  # or use set1.intersection(set2)\n",
    "\n",
    "# Difference\n",
    "difference_set = set1 - set2  # or use set1.difference(set2)\n",
    "\n",
    "ab=set1.symmetric_difference(set2)\n",
    "print('only umacthed from both dataset',ab)\n",
    "\n",
    "print('without repeated element returning union',union_set)\n",
    "print('macthed one only as intersection',intersection_set)\n",
    "print('we are doing the minus from set 1 so it will give the result of set1 and remove the common element from set1',difference_set)\n"
   ]
  },
  {
   "cell_type": "markdown",
   "id": "069ae6c2",
   "metadata": {},
   "source": [
    "# reversing a set using list then returning as set"
   ]
  },
  {
   "cell_type": "code",
   "execution_count": 91,
   "id": "a7696aaa",
   "metadata": {},
   "outputs": [
    {
     "ename": "TypeError",
     "evalue": "'list' object is not callable",
     "output_type": "error",
     "traceback": [
      "\u001b[1;31m---------------------------------------------------------------------------\u001b[0m",
      "\u001b[1;31mTypeError\u001b[0m                                 Traceback (most recent call last)",
      "Cell \u001b[1;32mIn[91], line 4\u001b[0m\n\u001b[0;32m      1\u001b[0m original_set \u001b[38;5;241m=\u001b[39m {\u001b[38;5;241m1\u001b[39m, \u001b[38;5;241m2\u001b[39m, \u001b[38;5;241m3\u001b[39m, \u001b[38;5;241m4\u001b[39m, \u001b[38;5;241m5\u001b[39m}\n\u001b[0;32m      3\u001b[0m \u001b[38;5;66;03m# Convert the set to a list, reverse the list, and create a new set\u001b[39;00m\n\u001b[1;32m----> 4\u001b[0m reversed_list \u001b[38;5;241m=\u001b[39m \u001b[38;5;28;43mlist\u001b[39;49m\u001b[43m(\u001b[49m\u001b[43moriginal_set\u001b[49m\u001b[43m)\u001b[49m[::\u001b[38;5;241m-\u001b[39m\u001b[38;5;241m1\u001b[39m]\n\u001b[0;32m      5\u001b[0m reversed_set \u001b[38;5;241m=\u001b[39m \u001b[38;5;28mset\u001b[39m(reversed_list)\n\u001b[0;32m      7\u001b[0m \u001b[38;5;28mprint\u001b[39m(\u001b[38;5;124m\"\u001b[39m\u001b[38;5;124mOriginal set:\u001b[39m\u001b[38;5;124m\"\u001b[39m, original_set)\n",
      "\u001b[1;31mTypeError\u001b[0m: 'list' object is not callable"
     ]
    }
   ],
   "source": [
    "original_set = {1, 2, 3, 4, 5}\n",
    "\n",
    "# Convert the set to a list, reverse the list, and create a new set\n",
    "reversed_list = list(original_set)[::-1]\n",
    "reversed_set = set(reversed_list)\n",
    "\n",
    "print(\"Original set:\", original_set)\n",
    "print(\"Reversed set:\", reversed_set)\n"
   ]
  },
  {
   "cell_type": "markdown",
   "id": "24ebf3c6",
   "metadata": {},
   "source": [
    "# max in sets"
   ]
  },
  {
   "cell_type": "code",
   "execution_count": 98,
   "id": "569a68df",
   "metadata": {},
   "outputs": [
    {
     "name": "stdout",
     "output_type": "stream",
     "text": [
      "The maximum value in the set is: 15\n"
     ]
    }
   ],
   "source": [
    "my_set = {10, 5, 8, 15, 3}\n",
    "\n",
    "max_value = max(my_set)\n",
    "\n",
    "print(f\"The maximum value in the set is: {max_value}\")\n"
   ]
  },
  {
   "cell_type": "code",
   "execution_count": 97,
   "id": "39aecc7d",
   "metadata": {},
   "outputs": [],
   "source": [
    "class Solution(object):\n",
    "    def twoSum(self, nums, target):\n",
    "        c=list[0]+list[1]\n",
    "        print(c)"
   ]
  },
  {
   "cell_type": "markdown",
   "id": "13d2a484",
   "metadata": {},
   "source": [
    "# Dictionary"
   ]
  },
  {
   "cell_type": "code",
   "execution_count": 6,
   "id": "b730af8f",
   "metadata": {},
   "outputs": [
    {
     "name": "stdout",
     "output_type": "stream",
     "text": [
      "Name: John Doe\n",
      "Age: 20\n",
      "Courses: ['Math', 'English', 'Science']\n",
      "\n",
      "Iterating through keys and values:\n",
      "name: John Doe\n",
      "age: 21\n",
      "grade: B\n",
      "courses: ['Math', 'English', 'Science']\n",
      "gender: Male\n",
      "\n",
      "The student's gender is Male\n",
      "\n",
      "Updated dictionary after removing 'grade': {'name': 'John Doe', 'age': 21, 'courses': ['Math', 'English', 'Science'], 'gender': 'Male'}\n"
     ]
    }
   ],
   "source": [
    "# Creating a dictionary\n",
    "student = {\n",
    "    'name': 'John Doe',\n",
    "    'age': 20,\n",
    "    'grade': 'A',\n",
    "    'courses': ['Math', 'English', 'Science']\n",
    "}\n",
    "\n",
    "# Accessing values using keys\n",
    "print(\"Name:\", student['name'])\n",
    "print(\"Age:\", student['age'])\n",
    "print(\"Courses:\", student['courses'])\n",
    "\n",
    "# Modifying values\n",
    "student['age'] = 21\n",
    "student['grade'] = 'B'\n",
    "\n",
    "# Adding a new key-value pair\n",
    "student['gender'] = 'Male'\n",
    "\n",
    "# Iterating through keys and values\n",
    "print(\"\\nIterating through keys and values:\")\n",
    "for key, value in student.items():\n",
    "    print(f\"{key}: {value}\")\n",
    "\n",
    "# Checking if a key exists\n",
    "if 'gender' in student:\n",
    "    print(\"\\nThe student's gender is\", student['gender'])\n",
    "else:\n",
    "    print(\"\\nGender information not available.\")\n",
    "\n",
    "# Removing a key-value pair\n",
    "del student['grade']\n",
    "\n",
    "# Displaying the updated dictionary\n",
    "print(\"\\nUpdated dictionary after removing 'grade':\", student)\n"
   ]
  },
  {
   "cell_type": "code",
   "execution_count": 7,
   "id": "b9917953",
   "metadata": {},
   "outputs": [
    {
     "name": "stdout",
     "output_type": "stream",
     "text": [
      "\n",
      "Iterating through keys and values:\n",
      "name: John Doe\n",
      "age: 21\n",
      "courses: ['Math', 'English', 'Science']\n",
      "gender: Male\n"
     ]
    }
   ],
   "source": [
    "print(\"\\nIterating through keys and values:\")\n",
    "for key, value in student.items():\n",
    "    print(f\"{key}: {value}\")"
   ]
  },
  {
   "cell_type": "markdown",
   "id": "da15becb",
   "metadata": {},
   "source": [
    "# In this example, items() is used to get a view of the dictionary's key-value pairs, and the for loop iterates over these pairs. During each iteration, the key variable holds the current key, and the value variable holds the corresponding value. This allows you to conveniently access both the keys and values in a single loop, making it easier to process and display information from the dictionary."
   ]
  },
  {
   "cell_type": "markdown",
   "id": "c777572c",
   "metadata": {},
   "source": [
    "# print number of times words got repeated in text ?"
   ]
  },
  {
   "cell_type": "code",
   "execution_count": 26,
   "id": "2c70782a",
   "metadata": {},
   "outputs": [
    {
     "name": "stdout",
     "output_type": "stream",
     "text": [
      "{'This': 1, 'is': 2, 'a': 1, 'sample': 1, 'text.': 1, 'Sample': 1, 'text': 1, 'useful': 1, 'for': 1, 'examples.': 1}\n",
      "This: 1\n",
      "is: 2\n",
      "a: 1\n",
      "sample: 1\n",
      "text.: 1\n",
      "Sample: 1\n",
      "text: 1\n",
      "useful: 1\n",
      "for: 1\n",
      "examples.: 1\n"
     ]
    }
   ],
   "source": [
    "# Example: Counting the frequency of words in a text\n",
    "text = \"This is a sample text. Sample text is useful for examples.\"\n",
    "word_count = {}\n",
    "for word in text.split():\n",
    "    word_count[word] = word_count.get(word, 0) + 1\n",
    "    \n",
    "#     word_count.get(word, 0): This retrieves the current count of the word from the word_count dictionary. If the word is not already in the dictionary, it returns 0 as the default value.\n",
    "# word_count[word] = word_count.get(word, 0) + 1: This increments the count of the current word by 1 and updates the value in the dictionary.\n",
    "# This line essentially counts the occurrences of each word in the text. If the word is encountered for the first time, it initializes the count to 1; otherwise, it increments the existing count.\n",
    "\n",
    "# After this loop completes, the word_count dictionary will contain the frequency of each unique word in the given text.\n",
    "print(word_count)\n",
    "\n",
    "for key, value in word_count.items():    #focus here\n",
    "    print(f\"{key}: {value}\")"
   ]
  },
  {
   "cell_type": "code",
   "execution_count": 28,
   "id": "c5347489",
   "metadata": {},
   "outputs": [
    {
     "name": "stdout",
     "output_type": "stream",
     "text": [
      "This: 1\n",
      "is: 2\n",
      "a: 1\n",
      "sample: 1\n",
      "text.: 1\n",
      "Sample: 1\n",
      "text: 1\n",
      "useful: 1\n",
      "for: 1\n",
      "examples.: 1\n"
     ]
    }
   ],
   "source": [
    "# Displaying the word frequencies                #focus here\n",
    "for word, count in word_count.items():\n",
    "    print(f\"{word}: {count}\")\n"
   ]
  },
  {
   "cell_type": "markdown",
   "id": "6a67bb9e",
   "metadata": {},
   "source": [
    "# list to dictionary "
   ]
  },
  {
   "cell_type": "code",
   "execution_count": 31,
   "id": "2a5b9d05",
   "metadata": {},
   "outputs": [
    {
     "name": "stdout",
     "output_type": "stream",
     "text": [
      "{'a': 1, 'b': 2, 'c': 3}\n",
      "{'a': 1, 'b': 2, 'c': 3}\n",
      "{'a': 1, 'b': 2, 'c': 3}\n"
     ]
    }
   ],
   "source": [
    "# using zip function we can convert list to dictionary\n",
    "\n",
    "my_list = ['a', 1, 'b', 2, 'c', 3]\n",
    "my_dict = dict(zip(my_list[::2], my_list[1::2]))\n",
    "\n",
    "print(my_dict)\n",
    "# Output: {'a': 1, 'b': 2, 'c': 3}\n",
    "\n",
    "#using for loop \n",
    "\n",
    "my_list = ['a', 1, 'b', 2, 'c', 3]\n",
    "my_dict = {}\n",
    "for i in range(0, len(my_list), 2):\n",
    "    my_dict[my_list[i]] = my_list[i + 1]\n",
    "\n",
    "print(my_dict)\n",
    "# Output: {'a': 1, 'b': 2, 'c': 3}\n",
    "\n",
    "my_list = ['a', 1, 'b', 2, 'c', 3]\n",
    "my_dict = {my_list[i]: my_list[i + 1] for i in range(0, len(my_list), 2)}\n",
    "\n",
    "print(my_dict)\n",
    "# Output: {'a': 1, 'b': 2, 'c': 3}\n",
    "\n",
    "\n",
    "\n",
    "\n"
   ]
  },
  {
   "cell_type": "code",
   "execution_count": null,
   "id": "38f75454",
   "metadata": {},
   "outputs": [],
   "source": []
  }
 ],
 "metadata": {
  "kernelspec": {
   "display_name": "Python 3 (ipykernel)",
   "language": "python",
   "name": "python3"
  },
  "language_info": {
   "codemirror_mode": {
    "name": "ipython",
    "version": 3
   },
   "file_extension": ".py",
   "mimetype": "text/x-python",
   "name": "python",
   "nbconvert_exporter": "python",
   "pygments_lexer": "ipython3",
   "version": "3.10.9"
  }
 },
 "nbformat": 4,
 "nbformat_minor": 5
}
