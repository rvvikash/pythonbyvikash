{
 "cells": [
  {
   "cell_type": "code",
   "execution_count": 1,
   "id": "e968baf3",
   "metadata": {},
   "outputs": [
    {
     "name": "stdout",
     "output_type": "stream",
     "text": [
      "Updating marks for John:\n",
      "John's original marks: 80\n",
      "Updated marks: 85\n"
     ]
    }
   ],
   "source": [
    "# Decorator function\n",
    "def update_marks_decorator(func):\n",
    "    def wrapper(student_name, original_marks):\n",
    "        print(f\"Updating marks for {student_name}:\")\n",
    "        updated_marks = func(student_name, original_marks)\n",
    "        updated_marks += 5  # Adding 5 marks\n",
    "        print(f\"Updated marks: {updated_marks}\")\n",
    "        return updated_marks\n",
    "    return wrapper\n",
    "\n",
    "# Function with decorator\n",
    "@update_marks_decorator\n",
    "def student_exam_result(student_name, marks):\n",
    "    print(f\"{student_name}'s original marks: {marks}\")\n",
    "    return marks\n",
    "\n",
    "# Example usage\n",
    "student_name = \"John\"\n",
    "original_marks = 80\n",
    "\n",
    "updated_marks = student_exam_result(student_name, original_marks)"
   ]
  },
  {
   "cell_type": "code",
   "execution_count": 2,
   "id": "a2e7ffff",
   "metadata": {},
   "outputs": [
    {
     "name": "stdout",
     "output_type": "stream",
     "text": [
      "first name golu\n",
      "second name vikash\n",
      "second name vikash\n"
     ]
    }
   ],
   "source": [
    "def decorator(func):# we are creating the decoartor and passing the existing functionality as arugment \n",
    "    def inner():# adding other function which want to modify some using eisting functionality\n",
    "        func() #just we are calling the existing function\n",
    "        print('second name vikash')# just after the calling existing function we are adding the additional functionality\n",
    "    return inner\n",
    "\n",
    "\n",
    "@decorator   #it behave as printer=decorator(printer) so if we declaring using @ we can ignore this and we are not so we can declare this\n",
    "def printer():\n",
    "    print('first name golu')\n",
    "printer=decorator(printer)\n",
    "printer() #calling decorated function in always important \n",
    "# printer() "
   ]
  },
  {
   "cell_type": "code",
   "execution_count": 3,
   "id": "02ac1753",
   "metadata": {},
   "outputs": [
    {
     "name": "stdout",
     "output_type": "stream",
     "text": [
      "John's original marks: 80\n"
     ]
    }
   ],
   "source": [
    "def student_exam_result(student_name, marks):\n",
    "    print(f\"{student_name}'s original marks: {marks}\")\n",
    "    return marks\n",
    "student_name = \"John\"\n",
    "original_marks = 80\n",
    "\n",
    "updated_marks = student_exam_result(student_name, original_marks)"
   ]
  },
  {
   "cell_type": "code",
   "execution_count": 4,
   "id": "2af00881",
   "metadata": {},
   "outputs": [
    {
     "name": "stdout",
     "output_type": "stream",
     "text": [
      "Updating marks for John:\n",
      "John's original marks: 80\n",
      "Updated marks: 85\n"
     ]
    }
   ],
   "source": [
    "# Decorator function\n",
    "def update_marks_decorator(func):\n",
    "    def wrapper(student_name, original_marks):\n",
    "        print(f\"Updating marks for {student_name}:\")\n",
    "        updated_marks = func(student_name, original_marks)\n",
    "        updated_marks += 5  # Adding 5 marks\n",
    "        print(f\"Updated marks: {updated_marks}\")\n",
    "        return updated_marks\n",
    "    return wrapper\n",
    "\n",
    "# Function with decorator\n",
    "# @update_marks_decorator\n",
    "def student_exam_result(student_name, marks):\n",
    "    print(f\"{student_name}'s original marks: {marks}\")\n",
    "    return marks\n",
    "\n",
    "# Example usage\n",
    "student_name = \"John\"\n",
    "original_marks = 80\n",
    "student_exam_result=update_marks_decorator(student_exam_result) #we can use this or this @update_marks_decorator both are same\n",
    "updated_marks = student_exam_result(student_name, original_marks)# this we are using to call main function\n"
   ]
  },
  {
   "cell_type": "code",
   "execution_count": 5,
   "id": "6afb85ea",
   "metadata": {},
   "outputs": [
    {
     "name": "stdout",
     "output_type": "stream",
     "text": [
      "Updating marks for John:\n",
      "John's original marks: 80\n",
      "Updated marks: 85\n"
     ]
    }
   ],
   "source": [
    "def update_marks_decorator(func):\n",
    "    def wrapper(student_name, original_marks):\n",
    "        print(f\"Updating marks for {student_name}:\")\n",
    "        updated_marks = func(student_name, original_marks)\n",
    "        updated_marks += 5  # Adding 5 marks\n",
    "        print(f\"Updated marks: {updated_marks}\")\n",
    "        return updated_marks\n",
    "    return wrapper\n",
    "\n",
    "# Function with decorator\n",
    "# @update_marks_decorator\n",
    "def student_exam_result(student_name, marks):\n",
    "    print(f\"{student_name}'s original marks: {marks}\")\n",
    "    return marks\n",
    "\n",
    "# Example usage\n",
    "student_name = \"John\"\n",
    "original_marks = 80\n",
    "student_exam_result=update_marks_decorator(student_exam_result) #we can use this or this @update_marks_decorator both are same\n",
    "updated_marks = student_exam_result(student_name, original_marks)# this we are using to call main function"
   ]
  },
  {
   "cell_type": "code",
   "execution_count": null,
   "id": "d67a68a8",
   "metadata": {},
   "outputs": [],
   "source": []
  }
 ],
 "metadata": {
  "kernelspec": {
   "display_name": "Python 3 (ipykernel)",
   "language": "python",
   "name": "python3"
  },
  "language_info": {
   "codemirror_mode": {
    "name": "ipython",
    "version": 3
   },
   "file_extension": ".py",
   "mimetype": "text/x-python",
   "name": "python",
   "nbconvert_exporter": "python",
   "pygments_lexer": "ipython3",
   "version": "3.10.9"
  }
 },
 "nbformat": 4,
 "nbformat_minor": 5
}
