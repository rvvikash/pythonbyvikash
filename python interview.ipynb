{
 "cells": [
  {
   "cell_type": "raw",
   "id": "b36ebeb4-11da-4a52-be84-85052aac542f",
   "metadata": {},
   "source": [
    "Map function:\n",
    "In Python, the map() function is used to apply a given function to all the items in an iterable (like a list or tuple) and return a new iterable with the results. The syntax for map() is:\n",
    "map(function, iterable)\n",
    "suppose you have a list of numbers and you want to square each number in the list using map():"
   ]
  },
  {
   "cell_type": "code",
   "execution_count": 4,
   "id": "9182a96b-ecf7-4d95-afa8-068ca7c1827a",
   "metadata": {},
   "outputs": [
    {
     "name": "stdout",
     "output_type": "stream",
     "text": [
      "[1, 4, 9, 16, 25, 64]\n",
      "[1, 4, 9, 16, 25, 64]\n"
     ]
    }
   ],
   "source": [
    "numbers = [1, 2, 3, 4, 5,8]\n",
    "\n",
    "def square(x):\n",
    "    return x ** 2\n",
    "\n",
    "squared_numbers = map(square, numbers)\n",
    "\n",
    "print(list(squared_numbers))  # Output: [1, 4, 9, 16, 25]\n",
    "\n",
    "# map() returns an iterator, so you may need to convert it to a list or another iterable type (like a tuple) to see the results.\n",
    "\n",
    "numbers = [1, 2, 3, 4, 5, 8]\n",
    "\n",
    "squared_numbers = map(lambda x: x ** 2, numbers)\n",
    "\n",
    "print(list(squared_numbers))\n",
    "\n"
   ]
  },
  {
   "cell_type": "code",
   "execution_count": 39,
   "id": "b965d5f9-aa4f-46ca-b9f6-b829654a9d31",
   "metadata": {},
   "outputs": [
    {
     "name": "stdout",
     "output_type": "stream",
     "text": [
      "Help on function open in module io:\n",
      "\n",
      "open(file, mode='r', buffering=-1, encoding=None, errors=None, newline=None, closefd=True, opener=None)\n",
      "    Open file and return a stream.  Raise OSError upon failure.\n",
      "    \n",
      "    file is either a text or byte string giving the name (and the path\n",
      "    if the file isn't in the current working directory) of the file to\n",
      "    be opened or an integer file descriptor of the file to be\n",
      "    wrapped. (If a file descriptor is given, it is closed when the\n",
      "    returned I/O object is closed, unless closefd is set to False.)\n",
      "    \n",
      "    mode is an optional string that specifies the mode in which the file\n",
      "    is opened. It defaults to 'r' which means open for reading in text\n",
      "    mode.  Other common values are 'w' for writing (truncating the file if\n",
      "    it already exists), 'x' for creating and writing to a new file, and\n",
      "    'a' for appending (which on some Unix systems, means that all writes\n",
      "    append to the end of the file regardless of the current seek position).\n",
      "    In text mode, if encoding is not specified the encoding used is platform\n",
      "    dependent: locale.getencoding() is called to get the current locale encoding.\n",
      "    (For reading and writing raw bytes use binary mode and leave encoding\n",
      "    unspecified.) The available modes are:\n",
      "    \n",
      "    ========= ===============================================================\n",
      "    Character Meaning\n",
      "    --------- ---------------------------------------------------------------\n",
      "    'r'       open for reading (default)\n",
      "    'w'       open for writing, truncating the file first\n",
      "    'x'       create a new file and open it for writing\n",
      "    'a'       open for writing, appending to the end of the file if it exists\n",
      "    'b'       binary mode\n",
      "    't'       text mode (default)\n",
      "    '+'       open a disk file for updating (reading and writing)\n",
      "    ========= ===============================================================\n",
      "    \n",
      "    The default mode is 'rt' (open for reading text). For binary random\n",
      "    access, the mode 'w+b' opens and truncates the file to 0 bytes, while\n",
      "    'r+b' opens the file without truncation. The 'x' mode implies 'w' and\n",
      "    raises an `FileExistsError` if the file already exists.\n",
      "    \n",
      "    Python distinguishes between files opened in binary and text modes,\n",
      "    even when the underlying operating system doesn't. Files opened in\n",
      "    binary mode (appending 'b' to the mode argument) return contents as\n",
      "    bytes objects without any decoding. In text mode (the default, or when\n",
      "    't' is appended to the mode argument), the contents of the file are\n",
      "    returned as strings, the bytes having been first decoded using a\n",
      "    platform-dependent encoding or using the specified encoding if given.\n",
      "    \n",
      "    buffering is an optional integer used to set the buffering policy.\n",
      "    Pass 0 to switch buffering off (only allowed in binary mode), 1 to select\n",
      "    line buffering (only usable in text mode), and an integer > 1 to indicate\n",
      "    the size of a fixed-size chunk buffer.  When no buffering argument is\n",
      "    given, the default buffering policy works as follows:\n",
      "    \n",
      "    * Binary files are buffered in fixed-size chunks; the size of the buffer\n",
      "      is chosen using a heuristic trying to determine the underlying device's\n",
      "      \"block size\" and falling back on `io.DEFAULT_BUFFER_SIZE`.\n",
      "      On many systems, the buffer will typically be 4096 or 8192 bytes long.\n",
      "    \n",
      "    * \"Interactive\" text files (files for which isatty() returns True)\n",
      "      use line buffering.  Other text files use the policy described above\n",
      "      for binary files.\n",
      "    \n",
      "    encoding is the name of the encoding used to decode or encode the\n",
      "    file. This should only be used in text mode. The default encoding is\n",
      "    platform dependent, but any encoding supported by Python can be\n",
      "    passed.  See the codecs module for the list of supported encodings.\n",
      "    \n",
      "    errors is an optional string that specifies how encoding errors are to\n",
      "    be handled---this argument should not be used in binary mode. Pass\n",
      "    'strict' to raise a ValueError exception if there is an encoding error\n",
      "    (the default of None has the same effect), or pass 'ignore' to ignore\n",
      "    errors. (Note that ignoring encoding errors can lead to data loss.)\n",
      "    See the documentation for codecs.register or run 'help(codecs.Codec)'\n",
      "    for a list of the permitted encoding error strings.\n",
      "    \n",
      "    newline controls how universal newlines works (it only applies to text\n",
      "    mode). It can be None, '', '\\n', '\\r', and '\\r\\n'.  It works as\n",
      "    follows:\n",
      "    \n",
      "    * On input, if newline is None, universal newlines mode is\n",
      "      enabled. Lines in the input can end in '\\n', '\\r', or '\\r\\n', and\n",
      "      these are translated into '\\n' before being returned to the\n",
      "      caller. If it is '', universal newline mode is enabled, but line\n",
      "      endings are returned to the caller untranslated. If it has any of\n",
      "      the other legal values, input lines are only terminated by the given\n",
      "      string, and the line ending is returned to the caller untranslated.\n",
      "    \n",
      "    * On output, if newline is None, any '\\n' characters written are\n",
      "      translated to the system default line separator, os.linesep. If\n",
      "      newline is '' or '\\n', no translation takes place. If newline is any\n",
      "      of the other legal values, any '\\n' characters written are translated\n",
      "      to the given string.\n",
      "    \n",
      "    If closefd is False, the underlying file descriptor will be kept open\n",
      "    when the file is closed. This does not work when a file name is given\n",
      "    and must be True in that case.\n",
      "    \n",
      "    A custom opener can be used by passing a callable as *opener*. The\n",
      "    underlying file descriptor for the file object is then obtained by\n",
      "    calling *opener* with (*file*, *flags*). *opener* must return an open\n",
      "    file descriptor (passing os.open as *opener* results in functionality\n",
      "    similar to passing None).\n",
      "    \n",
      "    open() returns a file object whose type depends on the mode, and\n",
      "    through which the standard file operations such as reading and writing\n",
      "    are performed. When open() is used to open a file in a text mode ('w',\n",
      "    'r', 'wt', 'rt', etc.), it returns a TextIOWrapper. When used to open\n",
      "    a file in a binary mode, the returned class varies: in read binary\n",
      "    mode, it returns a BufferedReader; in write binary and append binary\n",
      "    modes, it returns a BufferedWriter, and in read/write mode, it returns\n",
      "    a BufferedRandom.\n",
      "    \n",
      "    It is also possible to use a string or bytearray as a file for both\n",
      "    reading and writing. For strings StringIO can be used like a file\n",
      "    opened in a text mode, and for bytes a BytesIO can be used like a file\n",
      "    opened in a binary mode.\n",
      "\n"
     ]
    }
   ],
   "source": [
    "help(open)\n",
    "# it will show python file handling"
   ]
  },
  {
   "cell_type": "code",
   "execution_count": 70,
   "id": "44c3d98f-ead6-4c58-8782-6e2a70beae3e",
   "metadata": {},
   "outputs": [
    {
     "name": "stdout",
     "output_type": "stream",
     "text": [
      "\n",
      "$\n",
      "$$\n",
      "$$$\n",
      "$$$$\n",
      "$$$$$\n",
      "$$$$$$\n",
      "######\n",
      "#####\n",
      "####\n",
      "###\n",
      "##\n",
      "#\n"
     ]
    }
   ],
   "source": [
    "n=6\n",
    "for j in range(n+1):\n",
    "    for i in range (j):\n",
    "        print('$',end='')\n",
    "    print()\n",
    "for k in range(n):\n",
    "    for l in range(n-k):\n",
    "        print('#',end='')\n",
    "    print()    \n",
    "        "
   ]
  },
  {
   "cell_type": "code",
   "execution_count": 2,
   "id": "69c08893-1e85-4dad-9504-9d347bf823b7",
   "metadata": {},
   "outputs": [
    {
     "name": "stdin",
     "output_type": "stream",
     "text": [
      "Enter the starting range:  5\n"
     ]
    },
    {
     "name": "stdout",
     "output_type": "stream",
     "text": [
      "5 entered number of starting\n"
     ]
    },
    {
     "name": "stdin",
     "output_type": "stream",
     "text": [
      "Enter the last range:  5\n"
     ]
    },
    {
     "name": "stdout",
     "output_type": "stream",
     "text": [
      "5 last number of starting\n",
      "[]\n"
     ]
    }
   ],
   "source": [
    "# prints all the numbers from 0 to 6 \n",
    "n = int(input(\"Enter the starting range: \"))\n",
    "print(n, 'entered number of starting')\n",
    "m = int(input(\"Enter the last range: \"))\n",
    "print(m, 'last number of starting')\n",
    "\n",
    "result_list = []\n",
    "for g in range(n, m):\n",
    "    if g == 3 or g == 4:\n",
    "        continue\n",
    "    result_list.append(g)\n",
    "\n",
    "print(result_list)\n"
   ]
  },
  {
   "cell_type": "code",
   "execution_count": 5,
   "id": "a0c59c81-cfe3-4444-a266-554da80f4774",
   "metadata": {},
   "outputs": [
    {
     "name": "stdin",
     "output_type": "stream",
     "text": [
      " 8\n"
     ]
    },
    {
     "name": "stdout",
     "output_type": "stream",
     "text": [
      "0 1123581321"
     ]
    }
   ],
   "source": [
    "n=int(input())\n",
    "def fibonnaci(n):\n",
    "    a=0\n",
    "    b=1\n",
    "    print(a,b,end='')\n",
    "    for i in range (1,n):\n",
    "        c=a+b\n",
    "        print(c,end='')\n",
    "        a=b\n",
    "        b=c\n",
    "        \n",
    "fibonnaci(n) \n",
    "\n",
    "    "
   ]
  },
  {
   "cell_type": "code",
   "execution_count": 10,
   "id": "1318d937-2a99-4efa-9ea5-c1cdd57176fe",
   "metadata": {},
   "outputs": [
    {
     "name": "stdout",
     "output_type": "stream",
     "text": [
      "21\n"
     ]
    }
   ],
   "source": [
    "# Define a function named list_sum that takes a list of numbers as input\n",
    "def list_sum(num_List):\n",
    "    # Check if the length of the input list is 1\n",
    "    if len(num_List) == 1:\n",
    "        # If the list has only one element, return that element\n",
    "        return num_List[0]\n",
    "    else:\n",
    "        # If the list has more than one element, return the sum of the first element\n",
    "        # and the result of recursively calling the list_sum function on the rest of the list\n",
    "        return num_List[0] + list_sum(num_List[1:])\n",
    "\n",
    "# Print the result of calling the list_sum function with the input [2, 4, 5, 6, 7]\n",
    "print(list_sum([2, 4, 5, 6, 4]))\n",
    "\n",
    "\n"
   ]
  },
  {
   "cell_type": "code",
   "execution_count": 2,
   "id": "920ab900-b976-4f20-a5ed-9d8bcb5d9b5a",
   "metadata": {},
   "outputs": [
    {
     "name": "stdout",
     "output_type": "stream",
     "text": [
      "25\n",
      "25\n"
     ]
    }
   ],
   "source": [
    "# Regular function\n",
    "def square(x):\n",
    "    return x * x\n",
    "\n",
    "# Equivalent lambda function\n",
    "square_lambda = lambda x: x * x\n",
    "\n",
    "print(square(5))         # Output: 25\n",
    "print(square_lambda(5))  # Output: 25\n"
   ]
  },
  {
   "cell_type": "code",
   "execution_count": 21,
   "id": "39b30b0c-4fe2-4bff-9336-be9a8ba84a07",
   "metadata": {},
   "outputs": [
    {
     "name": "stdout",
     "output_type": "stream",
     "text": [
      "33\n"
     ]
    }
   ],
   "source": [
    "a=[2,2,6,9,10,33]\n",
    "# print(max(a))\n",
    "b=0\n",
    "for i in a:\n",
    "    if i>b:\n",
    "        b=i\n",
    "print(b)\n",
    "    "
   ]
  },
  {
   "cell_type": "markdown",
   "id": "ef3977d7-0ce2-4248-b1ff-a35f1059ec38",
   "metadata": {},
   "source": [
    "Python doesn't have built-in support for access modifiers like some other languages do (e.g., Java with public, private, protected).\n",
    "Instead, it uses naming conventions to signal the programmer about the intended use of variables and methods.\n",
    "Conventionally, names starting with a single underscore (_) are considered \"protected\", and names starting with double underscores (__) are considered \"private\".\n",
    "However, these are just conventions, and the variables/methods can still be accessed from outside the class.\n",
    "Getter and setter methods are defined for each attribute, controlling access and modification.\n"
   ]
  },
  {
   "cell_type": "code",
   "execution_count": 2,
   "id": "9b04704d-afbd-4259-ad24-1abb190ba557",
   "metadata": {},
   "outputs": [
    {
     "name": "stdout",
     "output_type": "stream",
     "text": [
      "Toyota\n",
      "Toyota\n",
      "Camry\n",
      "2020\n",
      "Honda\n",
      "Accord\n",
      "2022\n",
      "Invalid year\n",
      "2022\n"
     ]
    }
   ],
   "source": [
    "class Car:\n",
    "    def __init__(self, make, model, year):\n",
    "        self._make = make  # Protected attribute\n",
    "        self._model = model  # Protected attribute\n",
    "        self.__year = year  # Private attribute\n",
    "\n",
    "    def get_make(self):\n",
    "        return self._make\n",
    "\n",
    "    def set_make(self, make):\n",
    "        self._make = make\n",
    "\n",
    "    def get_model(self):\n",
    "        return self._model\n",
    "\n",
    "    def set_model(self, model):\n",
    "        self._model = model\n",
    "\n",
    "    def get_year(self):\n",
    "        return self.__year\n",
    "\n",
    "    def set_year(self, year):\n",
    "        if year > 1900:  # Example validation\n",
    "            self.__year = year\n",
    "        else:\n",
    "            print(\"Invalid year\")\n",
    "\n",
    "    make = property(get_make, set_make)\n",
    "    model = property(get_model, set_model)\n",
    "    year = property(get_year, set_year)\n",
    "\n",
    "\n",
    "car1 = Car(\"Toyota\", \"Camry\", 2020)\n",
    "\n",
    "# Accessing attributes directly\n",
    "print(car1._make)  # Output: Toyota (can still be accessed, but it's conventionally protected)\n",
    "# print(car1.__year)  # This will raise an AttributeError since __year is private\n",
    "\n",
    "# Accessing attributes using property methods\n",
    "print(car1.make)  # Output: Toyota\n",
    "print(car1.model)  # Output: Camry\n",
    "print(car1.year)  # Output: 2020\n",
    "\n",
    "# Modifying attributes using property methods\n",
    "car1.make = \"Honda\"\n",
    "car1.model = \"Accord\"\n",
    "car1.year = 2022\n",
    "print(car1.make)  # Output: Honda\n",
    "print(car1.model)  # Output: Accord\n",
    "print(car1.year)  # Output: 2022\n",
    "\n",
    "# Trying to set an invalid year\n",
    "car1.year = 1800  # Output: Invalid year\n",
    "print(car1.year)  # Output: 2022 (year remains unchanged due to validation)\n"
   ]
  },
  {
   "cell_type": "markdown",
   "id": "0f2e8ef7-3483-47f8-aeee-f6c048cd2212",
   "metadata": {},
   "source": [
    "Getter and setter methods in Python are used to encapsulate access to object attributes, \n",
    "allowing controlled access and modification. Here's an example code demonstrating getter and setter methods:"
   ]
  },
  {
   "cell_type": "code",
   "execution_count": 4,
   "id": "4e2d95ca-5c7c-4d83-b66c-cf65278d4640",
   "metadata": {},
   "outputs": [
    {
     "name": "stdout",
     "output_type": "stream",
     "text": [
      "Alice\n",
      "20\n",
      "Bob\n",
      "25\n",
      "Age cannot be negative\n",
      "25\n"
     ]
    }
   ],
   "source": [
    "class Student:\n",
    "    def __init__(self, name, age):\n",
    "        self._name = name  # Protected attribute\n",
    "        self._age = age  # Protected attribute\n",
    "\n",
    "    # Getter method for name\n",
    "    def get_name(self):\n",
    "        return self._name\n",
    "\n",
    "    # Setter method for name\n",
    "    def set_name(self, name):\n",
    "        self._name = name\n",
    "\n",
    "    # Getter method for age\n",
    "    def get_age(self):\n",
    "        return self._age\n",
    "\n",
    "    # Setter method for age\n",
    "    def set_age(self, age):\n",
    "        if age >= 0:\n",
    "            self._age = age\n",
    "        else:\n",
    "            print(\"Age cannot be negative\")\n",
    "\n",
    "# Creating an instance of the Student class\n",
    "student1 = Student(\"Alice\", 20)\n",
    "\n",
    "# Accessing attributes using getter methods\n",
    "print(student1.get_name())  # Output: Alice\n",
    "print(student1.get_age())   # Output: 20\n",
    "\n",
    "# Modifying attributes using setter methods\n",
    "student1.set_name(\"Bob\")\n",
    "student1.set_age(25)\n",
    "\n",
    "print(student1.get_name())  # Output: Bob\n",
    "print(student1.get_age())   # Output: 25\n",
    "\n",
    "# Trying to set an invalid age\n",
    "student1.set_age(-5)  # Output: Age cannot be negative\n",
    "print(student1.get_age())  # Output: 25 (age remains unchanged due to validation)\n"
   ]
  },
  {
   "cell_type": "markdown",
   "id": "f45e9437-cc0c-416c-9b1c-af45423af653",
   "metadata": {},
   "source": [
    "In summary, return is used to return a single value and terminate the function,\n",
    "while yield is used to produce a sequence of values lazily and suspend the function's execution temporarily.\n"
   ]
  },
  {
   "cell_type": "code",
   "execution_count": 14,
   "id": "4360bb7b-a52c-4560-8945-824906665f5e",
   "metadata": {},
   "outputs": [
    {
     "name": "stdout",
     "output_type": "stream",
     "text": [
      "first name golu\n",
      "second name vikash\n"
     ]
    }
   ],
   "source": [
    "def decorator(func):# we are creating the decoartor and passing the existing functionality as arugment \n",
    "    def inner():# adding other function which want to modify some using eisting functionality\n",
    "        func() #just we are calling the existing function\n",
    "        print('second name vikash')# just after the calling existing function we are adding the additional functionality\n",
    "    return inner\n",
    "\n",
    "\n",
    "@decorator   #it behave as printer=decorator(printer) so if we declaring using @ we can ignore this and we are not so we can declare this\n",
    "def printer():\n",
    "    print('first name golu')\n",
    "# printer=decorator(printer)\n",
    "printer() #calling decorated function in always important \n",
    "# printer() "
   ]
  },
  {
   "cell_type": "markdown",
   "id": "3f051166-862e-4956-be61-110f38d5a3cb",
   "metadata": {},
   "source": [
    "string.split(separator, maxsplit)"
   ]
  },
  {
   "cell_type": "code",
   "execution_count": 1,
   "id": "3dc97d00-b16e-4830-908c-19f124b4e96a",
   "metadata": {},
   "outputs": [
    {
     "name": "stdout",
     "output_type": "stream",
     "text": [
      "['This', 'is', 'a', 'sample', 'sentence.']\n",
      "['apple', 'banana', 'orange', 'grape']\n",
      "['This', 'is', 'a sample sentence.']\n"
     ]
    }
   ],
   "source": [
    "# Splitting a string with default delimiter (whitespace)\n",
    "sentence = \"This is a sample sentence.\"\n",
    "words = sentence.split()\n",
    "print(words)  # Output: ['This', 'is', 'a', 'sample', 'sentence.']\n",
    "\n",
    "# Splitting a string based on a specified delimiter\n",
    "csv_data = \"apple,banana,orange,grape\"\n",
    "fruits = csv_data.split(',')\n",
    "print(fruits)  # Output: ['apple', 'banana', 'orange', 'grape']\n",
    "\n",
    "# Splitting a string into a maximum number of parts\n",
    "sentence = \"This is a sample sentence.\"\n",
    "words = sentence.split(maxsplit=2)\n",
    "print(words)  # Output: ['This', 'is', 'a sample sentence.']\n"
   ]
  },
  {
   "cell_type": "code",
   "execution_count": 3,
   "id": "58f471ba-bdaf-4b5f-b590-79e33c628db0",
   "metadata": {},
   "outputs": [
    {
     "name": "stdout",
     "output_type": "stream",
     "text": [
      "The letter 'a' appears 29 times in the text.\n"
     ]
    }
   ],
   "source": [
    "text = \"Lorem ipsum dolor sit amet, consectetur adipiscing elit. Sed do eiusmod tempor incididunt ut labore et dolore magna aliqua. Ut enim ad minim veniam, quis nostrud exercitation ullamco laboris nisi ut aliquip ex ea commodo consequat. Duis aute irure dolor in reprehenderit in voluptate velit esse cillum dolore eu fugiat nulla pariatur. Excepteur sint occaecat cupidatat non proident, sunt in culpa qui officia deserunt mollit anim id est laborum.\"\n",
    "\n",
    "# Count the occurrences of 'a' in the text\n",
    "count_a = text.count('a')\n",
    "\n",
    "print(\"The letter 'a' appears\", count_a, \"times in the text.\")\n"
   ]
  },
  {
   "cell_type": "markdown",
   "id": "4a2b1994-f2d2-49b2-ab88-2ab536504a82",
   "metadata": {},
   "source": [
    "word count in python "
   ]
  },
  {
   "cell_type": "code",
   "execution_count": 1,
   "id": "0b1838ea-9b96-41e0-b2c1-dfd338beb8c9",
   "metadata": {},
   "outputs": [
    {
     "name": "stdout",
     "output_type": "stream",
     "text": [
      "Word count: 10\n"
     ]
    }
   ],
   "source": [
    "def count_words(text):\n",
    "    words = text.split()\n",
    "    return len(words)\n",
    "\n",
    "# Example usage:\n",
    "text = \"This is a sample text to count words in Python.\"\n",
    "word_count = count_words(text)\n",
    "print(\"Word count:\", word_count)\n"
   ]
  },
  {
   "cell_type": "markdown",
   "id": "79816911-3768-4912-ae87-a5a90eeb07d9",
   "metadata": {},
   "source": [
    "inhertiance : We have a superclass Employee with common attributes like name and employee_id, and a method display_info() to display employee information.\n",
    "We define two subclasses: Teacher and Administrator, each inheriting from Employee.\n",
    "Each subclass adds its own unique attribute (subject for teachers and department for administrators) and overrides the display_info() method to include the additional information.\n",
    "We create instances of Teacher and Administrator and display their information using the display_info() method.\n"
   ]
  },
  {
   "cell_type": "code",
   "execution_count": 1,
   "id": "cd7d7841-a71b-41db-9c37-48b7ed1cffa3",
   "metadata": {},
   "outputs": [
    {
     "name": "stdout",
     "output_type": "stream",
     "text": [
      "Name: John Doe, ID: T001\n",
      "Subject: Math\n",
      "Name: Jane Smith, ID: A001\n",
      "Department: Administration\n"
     ]
    }
   ],
   "source": [
    "class Employee:\n",
    "    def __init__(self, name, employee_id):\n",
    "        self.name = name\n",
    "        self.employee_id = employee_id\n",
    "\n",
    "    def display_info(self):\n",
    "        print(f\"Name: {self.name}, ID: {self.employee_id}\")\n",
    "\n",
    "class Teacher(Employee):\n",
    "    def __init__(self, name, employee_id, subject):\n",
    "        super().__init__(name, employee_id)\n",
    "        self.subject = subject\n",
    "\n",
    "    def display_info(self):\n",
    "        super().display_info()\n",
    "        print(f\"Subject: {self.subject}\")\n",
    "\n",
    "class Administrator(Employee):\n",
    "    def __init__(self, name, employee_id, department):\n",
    "        super().__init__(name, employee_id)\n",
    "        self.department = department\n",
    "\n",
    "    def display_info(self):\n",
    "        super().display_info()\n",
    "        print(f\"Department: {self.department}\")\n",
    "\n",
    "# Example usage:\n",
    "teacher = Teacher(\"John Doe\", \"T001\", \"Math\")\n",
    "administrator = Administrator(\"Jane Smith\", \"A001\", \"Administration\")\n",
    "\n",
    "# Display information\n",
    "teacher.display_info()\n",
    "administrator.display_info()\n"
   ]
  },
  {
   "cell_type": "code",
   "execution_count": 2,
   "id": "63770e63-d6a5-4308-9699-436b86d46b1e",
   "metadata": {},
   "outputs": [
    {
     "name": "stdout",
     "output_type": "stream",
     "text": [
      "1 3\n",
      "2 3\n",
      "3 2\n",
      "4 1\n",
      "5 1\n"
     ]
    }
   ],
   "source": [
    "my_list = [1, 2, 3, 1, 2, 3, 4, 5, 1, 2]\n",
    "c={}\n",
    "for i in my_list:\n",
    "    if i in c:\n",
    "        c[i]+=1\n",
    "    else:\n",
    "        c[i]=1\n",
    "\n",
    "for element,count in c.items():\n",
    "    print(element,count)\n",
    "\n",
    "\n"
   ]
  },
  {
   "cell_type": "code",
   "execution_count": 5,
   "id": "c6bac214-8773-4ed9-bacf-48c3f1d2a248",
   "metadata": {},
   "outputs": [
    {
     "name": "stdout",
     "output_type": "stream",
     "text": [
      "The maximum value in the list is: 5\n"
     ]
    }
   ],
   "source": [
    "my_list = [1, 2, 3, 1, 2, 3, 4, 5, 1, 2]\n",
    "a = my_list[0]  # Initialize 'a' to the first element of the list\n",
    "\n",
    "for i in my_list:\n",
    "    if i > a:\n",
    "        a = i\n",
    "\n",
    "print(\"The maximum value in the list is:\", a)\n"
   ]
  },
  {
   "cell_type": "markdown",
   "id": "712b8ffd-1a18-4fda-b551-11c7861f7da6",
   "metadata": {},
   "source": [
    "indexing is not allowed in set so we can change into list then we can use it "
   ]
  },
  {
   "cell_type": "code",
   "execution_count": null,
   "id": "12b862ec-53b1-42f9-b2c2-d778f0310b25",
   "metadata": {},
   "outputs": [],
   "source": [
    "addind the list in different ways"
   ]
  },
  {
   "cell_type": "code",
   "execution_count": 11,
   "id": "76254c0e-d263-4dab-9da3-a94c29b347c0",
   "metadata": {},
   "outputs": [
    {
     "name": "stdout",
     "output_type": "stream",
     "text": [
      "24\n",
      "24\n"
     ]
    }
   ],
   "source": [
    "my_list = [1, 2, 3, 1, 2, 3, 4, 5, 1, 2]\n",
    "total_sum = 0\n",
    "\n",
    "for i in range(len(my_list)):\n",
    "    total_sum = total_sum + my_list[i]\n",
    "\n",
    "print(total_sum)\n",
    "\n",
    "\n",
    "my_list = [1, 2, 3, 1, 2, 3, 4, 5, 1, 2]\n",
    "total_sum = 0\n",
    "i = 0\n",
    "\n",
    "while i < len(my_list):\n",
    "    total_sum = total_sum + my_list[i]\n",
    "    i += 1\n",
    "\n",
    "print(total_sum)"
   ]
  },
  {
   "cell_type": "code",
   "execution_count": null,
   "id": "7dc86961-3c5b-4098-969c-d70ecf85ba6b",
   "metadata": {},
   "outputs": [],
   "source": []
  }
 ],
 "metadata": {
  "kernelspec": {
   "display_name": "Python 3 (ipykernel)",
   "language": "python",
   "name": "python3"
  },
  "language_info": {
   "codemirror_mode": {
    "name": "ipython",
    "version": 3
   },
   "file_extension": ".py",
   "mimetype": "text/x-python",
   "name": "python",
   "nbconvert_exporter": "python",
   "pygments_lexer": "ipython3",
   "version": "3.11.7"
  }
 },
 "nbformat": 4,
 "nbformat_minor": 5
}
